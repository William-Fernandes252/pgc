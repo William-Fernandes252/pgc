{
 "cells": [
  {
   "cell_type": "code",
   "execution_count": 1,
   "id": "3447cf7f",
   "metadata": {},
   "outputs": [],
   "source": [
    "import pandas as pd\n",
    "from pathlib import Path"
   ]
  },
  {
   "cell_type": "code",
   "execution_count": 2,
   "id": "b17bd8d9",
   "metadata": {},
   "outputs": [
    {
     "name": "stdout",
     "output_type": "stream",
     "text": [
      "Found CSV files:\n",
      "  - corporate_rating.csv\n",
      "\n",
      "File sizes:\n",
      "  - corporate_rating.csv: 0.7 MB\n"
     ]
    }
   ],
   "source": [
    "data_dir = Path('../data/external')\n",
    "corporate_credit_dir = data_dir / 'corporate-credit-rating'\n",
    "\n",
    "# List all CSV files in the lending-club directory\n",
    "csv_files = list(corporate_credit_dir.glob('*.csv'))\n",
    "print(\"Found CSV files:\")\n",
    "for file in csv_files:\n",
    "    print(f\"  - {file.name}\")\n",
    "    \n",
    "# Check file sizes\n",
    "print(\"\\nFile sizes:\")\n",
    "for file in csv_files:\n",
    "    size_mb = file.stat().st_size / (1024 * 1024)\n",
    "    print(f\"  - {file.name}: {size_mb:.1f} MB\")"
   ]
  },
  {
   "cell_type": "code",
   "execution_count": 3,
   "id": "f00ff373",
   "metadata": {},
   "outputs": [
    {
     "name": "stdout",
     "output_type": "stream",
     "text": [
      "\n",
      "Loading Taiwan credit dataset...\n",
      "Dataset shape: 2,029 rows, 31 columns\n",
      "Columns: ['Rating', 'Name', 'Symbol', 'Rating Agency Name', 'Date', 'Sector', 'currentRatio', 'quickRatio', 'cashRatio', 'daysOfSalesOutstanding', 'netProfitMargin', 'pretaxProfitMargin', 'grossProfitMargin', 'operatingProfitMargin', 'returnOnAssets', 'returnOnCapitalEmployed', 'returnOnEquity', 'assetTurnover', 'fixedAssetTurnover', 'debtEquityRatio', 'debtRatio', 'effectiveTaxRate', 'freeCashFlowOperatingCashFlowRatio', 'freeCashFlowPerShare', 'cashPerShare', 'companyEquityMultiplier', 'ebitPerRevenue', 'enterpriseValueMultiple', 'operatingCashFlowPerShare', 'operatingCashFlowSalesRatio', 'payablesTurnover']\n",
      "Memory usage: 1.1 MB\n"
     ]
    }
   ],
   "source": [
    "cc_file = corporate_credit_dir / 'corporate_rating.csv'\n",
    "\n",
    "print(\"\\nLoading Taiwan credit dataset...\")\n",
    "cc_df = pd.read_csv(cc_file)\n",
    "print(f\"Dataset shape: {cc_df.shape[0]:,} rows, {cc_df.shape[1]} columns\")\n",
    "print(\"Columns:\", list(cc_df.columns))\n",
    "print(f\"Memory usage: {cc_df.memory_usage(deep=True).sum() / 1024 / 1024:.1f} MB\")"
   ]
  },
  {
   "cell_type": "code",
   "execution_count": 4,
   "id": "65c56bfe",
   "metadata": {},
   "outputs": [
    {
     "data": {
      "text/plain": [
       "2029"
      ]
     },
     "execution_count": 4,
     "metadata": {},
     "output_type": "execute_result"
    }
   ],
   "source": [
    "len(cc_df)"
   ]
  },
  {
   "cell_type": "code",
   "execution_count": 5,
   "id": "8643b458",
   "metadata": {},
   "outputs": [
    {
     "data": {
      "text/plain": [
       "Rating\n",
       "BBB    671\n",
       "BB     490\n",
       "A      398\n",
       "B      302\n",
       "AA      89\n",
       "CCC     64\n",
       "AAA      7\n",
       "CC       5\n",
       "C        2\n",
       "D        1\n",
       "Name: count, dtype: int64"
      ]
     },
     "execution_count": 5,
     "metadata": {},
     "output_type": "execute_result"
    }
   ],
   "source": [
    "cc_df['Rating'].value_counts()"
   ]
  },
  {
   "cell_type": "code",
   "execution_count": 6,
   "id": "face621f",
   "metadata": {},
   "outputs": [
    {
     "data": {
      "text/plain": [
       "0.0004928536224741252"
      ]
     },
     "execution_count": 6,
     "metadata": {},
     "output_type": "execute_result"
    }
   ],
   "source": [
    "len(cc_df[cc_df['Rating'] == 'D']) / len(cc_df)"
   ]
  },
  {
   "cell_type": "code",
   "execution_count": null,
   "id": "84352fb3",
   "metadata": {},
   "outputs": [
    {
     "name": "stdout",
     "output_type": "stream",
     "text": [
      "A: 19.62%\n",
      "BBB: 33.07%\n",
      "AA: 4.39%\n",
      "BB: 24.15%\n",
      "B: 14.88%\n",
      "CCC: 3.15%\n",
      "D: 0.05%\n",
      "CC: 0.25%\n",
      "AAA: 0.34%\n",
      "C: 0.10%\n"
     ]
    }
   ],
   "source": [
    "for value in cc_df['Rating'].unique():\n",
    "    print(f\"{value}: {(len(cc_df[cc_df['Rating'] == value]) / len(cc_df)):.1%}\")"
   ]
  }
 ],
 "metadata": {
  "kernelspec": {
   "display_name": "experimentos",
   "language": "python",
   "name": "python3"
  },
  "language_info": {
   "codemirror_mode": {
    "name": "ipython",
    "version": 3
   },
   "file_extension": ".py",
   "mimetype": "text/x-python",
   "name": "python",
   "nbconvert_exporter": "python",
   "pygments_lexer": "ipython3",
   "version": "3.12.5"
  }
 },
 "nbformat": 4,
 "nbformat_minor": 5
}
