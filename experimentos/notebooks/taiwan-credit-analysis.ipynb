{
 "cells": [
  {
   "cell_type": "code",
   "execution_count": null,
   "id": "3b19683a",
   "metadata": {},
   "outputs": [],
   "source": [
    "import pandas as pd\n",
    "from pathlib import Path"
   ]
  },
  {
   "cell_type": "code",
   "execution_count": 2,
   "id": "d5d07725",
   "metadata": {},
   "outputs": [
    {
     "name": "stdout",
     "output_type": "stream",
     "text": [
      "Found CSV files:\n",
      "  - UCI_Credit_Card.csv\n",
      "\n",
      "File sizes:\n",
      "  - UCI_Credit_Card.csv: 2.7 MB\n"
     ]
    }
   ],
   "source": [
    "data_dir = Path('../data/external')\n",
    "taiwan_credit_dir = data_dir / 'taiwan-credit'\n",
    "\n",
    "# List all CSV files in the lending-club directory\n",
    "csv_files = list(taiwan_credit_dir.glob('*.csv'))\n",
    "print(\"Found CSV files:\")\n",
    "for file in csv_files:\n",
    "    print(f\"  - {file.name}\")\n",
    "    \n",
    "# Check file sizes\n",
    "print(\"\\nFile sizes:\")\n",
    "for file in csv_files:\n",
    "    size_mb = file.stat().st_size / (1024 * 1024)\n",
    "    print(f\"  - {file.name}: {size_mb:.1f} MB\")"
   ]
  },
  {
   "cell_type": "code",
   "execution_count": null,
   "id": "46925176",
   "metadata": {},
   "outputs": [
    {
     "name": "stdout",
     "output_type": "stream",
     "text": [
      "\n",
      "Loading Taiwan credit dataset...\n",
      "Dataset shape: 30,000 rows, 25 columns\n",
      "Columns: ['ID', 'LIMIT_BAL', 'SEX', 'EDUCATION', 'MARRIAGE', 'AGE', 'PAY_0', 'PAY_2', 'PAY_3', 'PAY_4', 'PAY_5', 'PAY_6', 'BILL_AMT1', 'BILL_AMT2', 'BILL_AMT3', 'BILL_AMT4', 'BILL_AMT5', 'BILL_AMT6', 'PAY_AMT1', 'PAY_AMT2', 'PAY_AMT3', 'PAY_AMT4', 'PAY_AMT5', 'PAY_AMT6', 'default.payment.next.month']\n",
      "Memory usage: 5.7 MB\n"
     ]
    }
   ],
   "source": [
    "taiwan_credit_file = taiwan_credit_dir / 'UCI_Credit_Card.csv'\n",
    "\n",
    "print(\"\\nLoading Taiwan credit dataset...\")\n",
    "taiwan_credit_df = pd.read_csv(taiwan_credit_file)\n",
    "print(f\"Dataset shape: {taiwan_credit_df.shape[0]:,} rows, {taiwan_credit_df.shape[1]} columns\")\n",
    "print(\"Columns:\", list(taiwan_credit_df.columns))\n",
    "print(f\"Memory usage: {taiwan_credit_df.memory_usage(deep=True).sum() / 1024 / 1024:.1f} MB\")"
   ]
  },
  {
   "cell_type": "code",
   "execution_count": 7,
   "id": "8ec69f16",
   "metadata": {},
   "outputs": [
    {
     "data": {
      "text/plain": [
       "0.2212"
      ]
     },
     "execution_count": 7,
     "metadata": {},
     "output_type": "execute_result"
    }
   ],
   "source": [
    "len(taiwan_credit_df[taiwan_credit_df['default.payment.next.month'] == 1]) / len(taiwan_credit_df)"
   ]
  }
 ],
 "metadata": {
  "kernelspec": {
   "display_name": "experimentos",
   "language": "python",
   "name": "python3"
  },
  "language_info": {
   "codemirror_mode": {
    "name": "ipython",
    "version": 3
   },
   "file_extension": ".py",
   "mimetype": "text/x-python",
   "name": "python",
   "nbconvert_exporter": "python",
   "pygments_lexer": "ipython3",
   "version": "3.12.5"
  }
 },
 "nbformat": 4,
 "nbformat_minor": 5
}
