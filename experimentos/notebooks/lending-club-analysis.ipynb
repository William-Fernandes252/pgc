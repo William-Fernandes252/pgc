{
 "cells": [
  {
   "cell_type": "code",
   "execution_count": 1,
   "id": "6ee6110a",
   "metadata": {},
   "outputs": [],
   "source": [
    "import pandas as pd\n",
    "import numpy as np\n",
    "from pathlib import Path"
   ]
  },
  {
   "cell_type": "code",
   "execution_count": 2,
   "id": "34f872b0",
   "metadata": {},
   "outputs": [
    {
     "name": "stdout",
     "output_type": "stream",
     "text": [
      "Found CSV files:\n",
      "  - accepted_2007_to_2018Q4.csv\n",
      "  - rejected_2007_to_2018Q4.csv\n",
      "\n",
      "File sizes:\n",
      "  - accepted_2007_to_2018Q4.csv: 1597.5 MB\n",
      "  - rejected_2007_to_2018Q4.csv: 1699.7 MB\n"
     ]
    }
   ],
   "source": [
    "# Define data paths\n",
    "data_dir = Path('../data/external')\n",
    "lending_club_dir = data_dir / 'lending-club'\n",
    "\n",
    "# List all CSV files in the lending-club directory\n",
    "csv_files = list(lending_club_dir.glob('*.csv'))\n",
    "print(\"Found CSV files:\")\n",
    "for file in csv_files:\n",
    "    print(f\"  - {file.name}\")\n",
    "    \n",
    "# Check file sizes\n",
    "print(\"\\nFile sizes:\")\n",
    "for file in csv_files:\n",
    "    size_mb = file.stat().st_size / (1024 * 1024)\n",
    "    print(f\"  - {file.name}: {size_mb:.1f} MB\")"
   ]
  },
  {
   "cell_type": "code",
   "execution_count": 3,
   "id": "1820f1f8",
   "metadata": {},
   "outputs": [
    {
     "name": "stdout",
     "output_type": "stream",
     "text": [
      "Loading accepted loans dataset...\n",
      "\n",
      "Loading full accepted dataset...\n",
      "Full dataset shape: (2260701, 1)\n",
      "Memory usage: 125.3 MB\n"
     ]
    }
   ],
   "source": [
    "# Load the accepted loans dataset\n",
    "print(\"Loading accepted loans dataset...\")\n",
    "accepted_file = lending_club_dir / 'accepted_2007_to_2018Q4.csv'\n",
    "\n",
    "# Load the full dataset (this might take a while for large files)\n",
    "print(\"\\nLoading full accepted dataset...\")\n",
    "accepted_df = pd.read_csv(accepted_file, usecols=['loan_status'])\n",
    "print(f\"Full dataset shape: {accepted_df.shape}\")\n",
    "print(f\"Memory usage: {accepted_df.memory_usage(deep=True).sum() / 1024 / 1024:.1f} MB\")"
   ]
  },
  {
   "cell_type": "markdown",
   "id": "6e8df99b",
   "metadata": {},
   "source": [
    "# Dataset Summary Analysis\n",
    "\n",
    "This notebook provides a comprehensive summary of the Lending Club datasets found in the data/external folder."
   ]
  },
  {
   "cell_type": "code",
   "execution_count": 4,
   "id": "eb4a31f0",
   "metadata": {},
   "outputs": [
    {
     "name": "stdout",
     "output_type": "stream",
     "text": [
      "=== ACCEPTED LOANS DATASET SUMMARY ===\n",
      "Dataset shape: 2,260,701 rows, 1 columns\n",
      "No issue_d column found\n",
      "\n",
      "--- Data Types ---\n",
      "object    1\n",
      "Name: count, dtype: int64\n",
      "\n",
      "--- Missing Values ---\n",
      "             Missing_Count  Missing_Percentage\n",
      "loan_status             33             0.00146\n",
      "\n",
      "--- Numerical Columns Summary ---\n"
     ]
    }
   ],
   "source": [
    "# Detailed statistical summary of accepted loans\n",
    "print(\"=== ACCEPTED LOANS DATASET SUMMARY ===\")\n",
    "print(f\"Dataset shape: {accepted_df.shape[0]:,} rows, {accepted_df.shape[1]} columns\")\n",
    "print(f\"Date range: {accepted_df['issue_d'].min()} to {accepted_df['issue_d'].max()}\" if 'issue_d' in accepted_df.columns else \"No issue_d column found\")\n",
    "\n",
    "print(\"\\n--- Data Types ---\")\n",
    "print(accepted_df.dtypes.value_counts())\n",
    "\n",
    "print(\"\\n--- Missing Values ---\")\n",
    "missing_values = accepted_df.isnull().sum()\n",
    "missing_pct = (missing_values / len(accepted_df)) * 100\n",
    "missing_summary = pd.DataFrame({\n",
    "    'Missing_Count': missing_values,\n",
    "    'Missing_Percentage': missing_pct\n",
    "}).sort_values('Missing_Count', ascending=False)\n",
    "print(missing_summary[missing_summary['Missing_Count'] > 0].head(10))\n",
    "\n",
    "print(\"\\n--- Numerical Columns Summary ---\")\n",
    "numeric_cols = accepted_df.select_dtypes(include=[np.number]).columns\n",
    "if len(numeric_cols) > 0:\n",
    "    print(accepted_df[numeric_cols].describe())"
   ]
  },
  {
   "cell_type": "code",
   "execution_count": 5,
   "id": "c24a6a4b",
   "metadata": {},
   "outputs": [
    {
     "data": {
      "text/plain": [
       "array(['Fully Paid', 'Current', 'Charged Off', 'In Grace Period',\n",
       "       'Late (31-120 days)', 'Late (16-30 days)', 'Default', nan,\n",
       "       'Does not meet the credit policy. Status:Fully Paid',\n",
       "       'Does not meet the credit policy. Status:Charged Off'],\n",
       "      dtype=object)"
      ]
     },
     "execution_count": 5,
     "metadata": {},
     "output_type": "execute_result"
    }
   ],
   "source": [
    "accepted_df['loan_status'].unique()"
   ]
  },
  {
   "cell_type": "code",
   "execution_count": 14,
   "id": "4c72ed00",
   "metadata": {},
   "outputs": [],
   "source": [
    "ls_df = accepted_df[accepted_df['loan_status'].isin(['Charged Off', 'Fully Paid', 'Current'])].copy()['loan_status']"
   ]
  },
  {
   "cell_type": "code",
   "execution_count": 16,
   "id": "47e53718",
   "metadata": {},
   "outputs": [
    {
     "name": "stdout",
     "output_type": "stream",
     "text": [
      "Fully Paid: 48.4%\n",
      "Current: 39.5%\n",
      "Charged Off: 12.1%\n"
     ]
    }
   ],
   "source": [
    "for value in ls_df.unique():\n",
    "    print(f\"{value}: {(len(ls_df[ls_df == value]) / len(ls_df)):.1%}\")"
   ]
  }
 ],
 "metadata": {
  "kernelspec": {
   "display_name": "experimentos",
   "language": "python",
   "name": "python3"
  },
  "language_info": {
   "codemirror_mode": {
    "name": "ipython",
    "version": 3
   },
   "file_extension": ".py",
   "mimetype": "text/x-python",
   "name": "python",
   "nbconvert_exporter": "python",
   "pygments_lexer": "ipython3",
   "version": "3.12.5"
  }
 },
 "nbformat": 4,
 "nbformat_minor": 5
}
